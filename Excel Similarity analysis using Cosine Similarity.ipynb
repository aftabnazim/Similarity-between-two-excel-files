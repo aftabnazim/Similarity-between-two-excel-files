{
 "cells": [
  {
   "cell_type": "code",
   "execution_count": 2,
   "metadata": {},
   "outputs": [],
   "source": [
    "import pandas as pd\n",
    "from scipy.stats import ttest_ind\n",
    "\n",
    "# read the first Excel file into a pandas dataframe\n",
    "df1 = pd.read_excel('Book1 - Copy.xlsx')\n",
    "\n",
    "# read the second Excel file into another pandas dataframe\n",
    "df2 = pd.read_excel('Book1.xlsx')\n",
    "\n",
    "# calculate the cosine similarity between the two dataframes\n",
    "similarity = (df1.dot(df2.transpose())) / (df1.apply(lambda x: pow(x, 2)).sum(axis=1).apply(lambda x: pow(x, 0.5)) * df2.apply(lambda x: pow(x, 2)).sum(axis=1).apply(lambda x: pow(x, 0.5)).transpose())\n",
    "\n"
   ]
  },
  {
   "cell_type": "code",
   "execution_count": 3,
   "metadata": {},
   "outputs": [],
   "source": [
    "# set the threshold limit\n",
    "threshold = 0.5\n",
    "\n",
    "# filter the similarity matrix by the threshold limit\n",
    "similar_items = similarity.where(similarity > threshold)\n",
    "\n"
   ]
  },
  {
   "cell_type": "code",
   "execution_count": 5,
   "metadata": {},
   "outputs": [
    {
     "ename": "ValueError",
     "evalue": "operands could not be broadcast together with shapes (75,) (2,4) ",
     "output_type": "error",
     "traceback": [
      "\u001b[1;31m---------------------------------------------------------------------------\u001b[0m",
      "\u001b[1;31mValueError\u001b[0m                                Traceback (most recent call last)",
      "Cell \u001b[1;32mIn[5], line 4\u001b[0m\n\u001b[0;32m      2\u001b[0m confidence \u001b[39m=\u001b[39m \u001b[39m0.95\u001b[39m\n\u001b[0;32m      3\u001b[0m p_value \u001b[39m=\u001b[39m ttest_ind(df1, df2)\n\u001b[1;32m----> 4\u001b[0m lower_bound \u001b[39m=\u001b[39m similarity\u001b[39m.\u001b[39mmean() \u001b[39m-\u001b[39m similarity\u001b[39m.\u001b[39;49mstd() \u001b[39m*\u001b[39;49m p_value \u001b[39m/\u001b[39m \u001b[39mpow\u001b[39m(df1\u001b[39m.\u001b[39mshape[\u001b[39m0\u001b[39m] \u001b[39m+\u001b[39m df2\u001b[39m.\u001b[39mshape[\u001b[39m0\u001b[39m], \u001b[39m0.5\u001b[39m)\n\u001b[0;32m      5\u001b[0m upper_bound \u001b[39m=\u001b[39m similarity\u001b[39m.\u001b[39mmean() \u001b[39m+\u001b[39m similarity\u001b[39m.\u001b[39mstd() \u001b[39m*\u001b[39m p_value \u001b[39m/\u001b[39m \u001b[39mpow\u001b[39m(df1\u001b[39m.\u001b[39mshape[\u001b[39m0\u001b[39m] \u001b[39m+\u001b[39m df2\u001b[39m.\u001b[39mshape[\u001b[39m0\u001b[39m], \u001b[39m0.5\u001b[39m)\n",
      "File \u001b[1;32mc:\\Users\\ASUS\\Desktop\\Project\\venv\\Lib\\site-packages\\pandas\\core\\ops\\common.py:81\u001b[0m, in \u001b[0;36m_unpack_zerodim_and_defer.<locals>.new_method\u001b[1;34m(self, other)\u001b[0m\n\u001b[0;32m     77\u001b[0m             \u001b[39mreturn\u001b[39;00m \u001b[39mNotImplemented\u001b[39m\n\u001b[0;32m     79\u001b[0m other \u001b[39m=\u001b[39m item_from_zerodim(other)\n\u001b[1;32m---> 81\u001b[0m \u001b[39mreturn\u001b[39;00m method(\u001b[39mself\u001b[39;49m, other)\n",
      "File \u001b[1;32mc:\\Users\\ASUS\\Desktop\\Project\\venv\\Lib\\site-packages\\pandas\\core\\arraylike.py:202\u001b[0m, in \u001b[0;36mOpsMixin.__mul__\u001b[1;34m(self, other)\u001b[0m\n\u001b[0;32m    200\u001b[0m \u001b[39m@unpack_zerodim_and_defer\u001b[39m(\u001b[39m\"\u001b[39m\u001b[39m__mul__\u001b[39m\u001b[39m\"\u001b[39m)\n\u001b[0;32m    201\u001b[0m \u001b[39mdef\u001b[39;00m \u001b[39m__mul__\u001b[39m(\u001b[39mself\u001b[39m, other):\n\u001b[1;32m--> 202\u001b[0m     \u001b[39mreturn\u001b[39;00m \u001b[39mself\u001b[39;49m\u001b[39m.\u001b[39;49m_arith_method(other, operator\u001b[39m.\u001b[39;49mmul)\n",
      "File \u001b[1;32mc:\\Users\\ASUS\\Desktop\\Project\\venv\\Lib\\site-packages\\pandas\\core\\series.py:6113\u001b[0m, in \u001b[0;36mSeries._arith_method\u001b[1;34m(self, other, op)\u001b[0m\n\u001b[0;32m   6111\u001b[0m \u001b[39mdef\u001b[39;00m \u001b[39m_arith_method\u001b[39m(\u001b[39mself\u001b[39m, other, op):\n\u001b[0;32m   6112\u001b[0m     \u001b[39mself\u001b[39m, other \u001b[39m=\u001b[39m ops\u001b[39m.\u001b[39malign_method_SERIES(\u001b[39mself\u001b[39m, other)\n\u001b[1;32m-> 6113\u001b[0m     \u001b[39mreturn\u001b[39;00m base\u001b[39m.\u001b[39;49mIndexOpsMixin\u001b[39m.\u001b[39;49m_arith_method(\u001b[39mself\u001b[39;49m, other, op)\n",
      "File \u001b[1;32mc:\\Users\\ASUS\\Desktop\\Project\\venv\\Lib\\site-packages\\pandas\\core\\base.py:1348\u001b[0m, in \u001b[0;36mIndexOpsMixin._arith_method\u001b[1;34m(self, other, op)\u001b[0m\n\u001b[0;32m   1345\u001b[0m rvalues \u001b[39m=\u001b[39m ensure_wrapped_if_datetimelike(rvalues)\n\u001b[0;32m   1347\u001b[0m \u001b[39mwith\u001b[39;00m np\u001b[39m.\u001b[39merrstate(\u001b[39mall\u001b[39m\u001b[39m=\u001b[39m\u001b[39m\"\u001b[39m\u001b[39mignore\u001b[39m\u001b[39m\"\u001b[39m):\n\u001b[1;32m-> 1348\u001b[0m     result \u001b[39m=\u001b[39m ops\u001b[39m.\u001b[39;49marithmetic_op(lvalues, rvalues, op)\n\u001b[0;32m   1350\u001b[0m \u001b[39mreturn\u001b[39;00m \u001b[39mself\u001b[39m\u001b[39m.\u001b[39m_construct_result(result, name\u001b[39m=\u001b[39mres_name)\n",
      "File \u001b[1;32mc:\\Users\\ASUS\\Desktop\\Project\\venv\\Lib\\site-packages\\pandas\\core\\ops\\array_ops.py:225\u001b[0m, in \u001b[0;36marithmetic_op\u001b[1;34m(left, right, op)\u001b[0m\n\u001b[0;32m    221\u001b[0m     _bool_arith_check(op, left, right)\n\u001b[0;32m    223\u001b[0m     \u001b[39m# error: Argument 1 to \"_na_arithmetic_op\" has incompatible type\u001b[39;00m\n\u001b[0;32m    224\u001b[0m     \u001b[39m# \"Union[ExtensionArray, ndarray[Any, Any]]\"; expected \"ndarray[Any, Any]\"\u001b[39;00m\n\u001b[1;32m--> 225\u001b[0m     res_values \u001b[39m=\u001b[39m _na_arithmetic_op(left, right, op)  \u001b[39m# type: ignore[arg-type]\u001b[39;00m\n\u001b[0;32m    227\u001b[0m \u001b[39mreturn\u001b[39;00m res_values\n",
      "File \u001b[1;32mc:\\Users\\ASUS\\Desktop\\Project\\venv\\Lib\\site-packages\\pandas\\core\\ops\\array_ops.py:164\u001b[0m, in \u001b[0;36m_na_arithmetic_op\u001b[1;34m(left, right, op, is_cmp)\u001b[0m\n\u001b[0;32m    161\u001b[0m     func \u001b[39m=\u001b[39m partial(expressions\u001b[39m.\u001b[39mevaluate, op)\n\u001b[0;32m    163\u001b[0m \u001b[39mtry\u001b[39;00m:\n\u001b[1;32m--> 164\u001b[0m     result \u001b[39m=\u001b[39m func(left, right)\n\u001b[0;32m    165\u001b[0m \u001b[39mexcept\u001b[39;00m \u001b[39mTypeError\u001b[39;00m:\n\u001b[0;32m    166\u001b[0m     \u001b[39mif\u001b[39;00m \u001b[39mnot\u001b[39;00m is_cmp \u001b[39mand\u001b[39;00m (is_object_dtype(left\u001b[39m.\u001b[39mdtype) \u001b[39mor\u001b[39;00m is_object_dtype(right)):\n\u001b[0;32m    167\u001b[0m         \u001b[39m# For object dtype, fallback to a masked operation (only operating\u001b[39;00m\n\u001b[0;32m    168\u001b[0m         \u001b[39m#  on the non-missing values)\u001b[39;00m\n\u001b[0;32m    169\u001b[0m         \u001b[39m# Don't do this for comparisons, as that will handle complex numbers\u001b[39;00m\n\u001b[0;32m    170\u001b[0m         \u001b[39m#  incorrectly, see GH#32047\u001b[39;00m\n",
      "File \u001b[1;32mc:\\Users\\ASUS\\Desktop\\Project\\venv\\Lib\\site-packages\\pandas\\core\\computation\\expressions.py:239\u001b[0m, in \u001b[0;36mevaluate\u001b[1;34m(op, a, b, use_numexpr)\u001b[0m\n\u001b[0;32m    236\u001b[0m \u001b[39mif\u001b[39;00m op_str \u001b[39mis\u001b[39;00m \u001b[39mnot\u001b[39;00m \u001b[39mNone\u001b[39;00m:\n\u001b[0;32m    237\u001b[0m     \u001b[39mif\u001b[39;00m use_numexpr:\n\u001b[0;32m    238\u001b[0m         \u001b[39m# error: \"None\" not callable\u001b[39;00m\n\u001b[1;32m--> 239\u001b[0m         \u001b[39mreturn\u001b[39;00m _evaluate(op, op_str, a, b)  \u001b[39m# type: ignore[misc]\u001b[39;00m\n\u001b[0;32m    240\u001b[0m \u001b[39mreturn\u001b[39;00m _evaluate_standard(op, op_str, a, b)\n",
      "File \u001b[1;32mc:\\Users\\ASUS\\Desktop\\Project\\venv\\Lib\\site-packages\\pandas\\core\\computation\\expressions.py:70\u001b[0m, in \u001b[0;36m_evaluate_standard\u001b[1;34m(op, op_str, a, b)\u001b[0m\n\u001b[0;32m     68\u001b[0m \u001b[39mif\u001b[39;00m _TEST_MODE:\n\u001b[0;32m     69\u001b[0m     _store_test_result(\u001b[39mFalse\u001b[39;00m)\n\u001b[1;32m---> 70\u001b[0m \u001b[39mreturn\u001b[39;00m op(a, b)\n",
      "\u001b[1;31mValueError\u001b[0m: operands could not be broadcast together with shapes (75,) (2,4) "
     ]
    }
   ],
   "source": [
    "# calculate the confidence interval using a t-test\n",
    "confidence = 0.95\n",
    "p_value = ttest_ind(df1, df2)\n",
    "lower_bound = similarity.mean() - similarity.std() * p_value / pow(df1.shape[0] + df2.shape[0], 0.5)\n",
    "upper_bound = similarity.mean() + similarity.std() * p_value / pow(df1.shape[0] + df2.shape[0], 0.5)\n",
    "\n"
   ]
  },
  {
   "cell_type": "code",
   "execution_count": 4,
   "metadata": {},
   "outputs": [
    {
     "name": "stdout",
     "output_type": "stream",
     "text": [
      "Similar items:\n",
      "          0         1         2         3         4         5         6    \n",
      "0   1.000000  0.998169  0.996337  1.022342  0.993218  1.023727  1.020974  \\\n",
      "1   0.999569  1.000000  0.997651  1.024719  0.999847  1.026026  1.024118   \n",
      "2   1.002264  1.002180  1.000000  1.025312  1.000484  1.026978  1.024984   \n",
      "3   0.938345  0.939210  0.935506  1.000000  0.951031  0.992918  0.988577   \n",
      "4   0.981446  0.986613  0.982779  1.023882  1.000000  1.022386  1.021425   \n",
      "..       ...       ...       ...       ...       ...       ...       ...   \n",
      "70  0.959574  0.959407  0.956376  1.007444  0.965195  1.003307  0.999482   \n",
      "71  0.945606  0.950697  0.946141  1.009151  0.970438  1.002723  1.000203   \n",
      "72  0.940551  0.939037  0.935939  0.997518  0.945286  0.990913  0.985808   \n",
      "73  0.911070  0.909472  0.905795  0.985097  0.920822  0.974497  0.968121   \n",
      "74  0.999505  1.001658  0.998899  1.027221  1.005283  1.028376  1.027081   \n",
      "\n",
      "          7         8         9   ...        65        66        67        68   \n",
      "0   0.998620  0.986965  0.993290  ...  1.016834  0.985923  1.008113  1.009319  \\\n",
      "1   1.006057  0.995416  1.000389  ...  1.020928  0.991677  1.008640  1.013382   \n",
      "2   1.005829  0.995298  1.000781  ...  1.021606  0.992847  1.010948  1.013117   \n",
      "3   0.974124  0.955272  0.955055  ...  0.984843  0.934489  0.951770  1.000584   \n",
      "4   1.013196  1.002002  1.002600  ...  1.019986  0.987390  0.993857  1.019715   \n",
      "..       ...       ...       ...  ...       ...       ...       ...       ...   \n",
      "70  0.982105  0.965713  0.967826  ...  0.995568  0.951905  0.971111  1.003231   \n",
      "71  0.993468  0.977284  0.975022  ...  0.998304  0.953021  0.960444  1.011761   \n",
      "72  0.966728  0.947220  0.948653  ...  0.981114  0.930062  0.952760  0.995791   \n",
      "73  0.950218  0.926664  0.925791  ...  0.963047  0.901716  0.925232  0.988848   \n",
      "74  1.012301  1.002327  1.006222  ...  1.024601  0.996347  1.009361  1.017287   \n",
      "\n",
      "          69        70        71        72        73        74  \n",
      "0   1.013062  1.024590  1.002800  1.026956  1.011873  0.993504  \n",
      "1   1.016004  1.025847  1.009613  1.026740  1.011515  0.997040  \n",
      "2   1.016036  1.027249  1.009336  1.028000  1.011999  0.998808  \n",
      "3   1.001978  0.987322  0.982260  0.999669  1.004198  0.937162  \n",
      "4   1.019672  1.018376  1.016936  1.019892  1.010581  0.987403  \n",
      "..       ...       ...       ...       ...       ...       ...  \n",
      "70  1.005488  1.000000  0.988893  1.008942  1.006665  0.956378  \n",
      "71  1.011159  0.995672  1.000000  1.004155  1.006505  0.951775  \n",
      "72  0.998410  0.986661  0.975294  1.000000  1.003757  0.935171  \n",
      "73  0.991024  0.967792  0.961050  0.986788  1.000000  0.905824  \n",
      "74  1.019046  1.027345  1.015439  1.027250  1.012123  1.000000  \n",
      "\n",
      "[75 rows x 75 columns]\n",
      "\n"
     ]
    }
   ],
   "source": [
    "# print the results\n",
    "print(f\"Similar items:\\n{similar_items}\\n\")\n"
   ]
  },
  {
   "cell_type": "code",
   "execution_count": null,
   "metadata": {},
   "outputs": [],
   "source": [
    "print(f\"Confidence interval: [{lower_bound:.3f}, {upper_bound:.3f}]\")"
   ]
  }
 ],
 "metadata": {
  "kernelspec": {
   "display_name": "venv",
   "language": "python",
   "name": "python3"
  },
  "language_info": {
   "codemirror_mode": {
    "name": "ipython",
    "version": 3
   },
   "file_extension": ".py",
   "mimetype": "text/x-python",
   "name": "python",
   "nbconvert_exporter": "python",
   "pygments_lexer": "ipython3",
   "version": "3.11.3"
  },
  "orig_nbformat": 4
 },
 "nbformat": 4,
 "nbformat_minor": 2
}
