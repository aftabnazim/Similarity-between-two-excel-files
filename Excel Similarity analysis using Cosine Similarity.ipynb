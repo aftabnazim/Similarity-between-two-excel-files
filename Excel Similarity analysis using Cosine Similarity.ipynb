{
 "cells": [
  {
   "cell_type": "code",
   "execution_count": 1,
   "metadata": {},
   "outputs": [],
   "source": [
    "import pandas as pd\n",
    "import numpy as np\n",
    "from scipy.stats import ttest_ind, f_oneway\n",
    "\n",
    "# read the first Excel file into a pandas dataframe\n",
    "df1 = pd.read_excel('Book1 - Copy.xlsx')\n",
    "\n",
    "# read the second Excel file into another pandas dataframe\n",
    "df2 = pd.read_excel('Book1.xlsx')\n",
    "\n",
    "# calculate the cosine similarity between the two dataframes\n",
    "similarity = (df1.dot(df2.transpose())) / (df1.apply(lambda x: pow(x, 2)).sum(axis=1).apply(lambda x: pow(x, 0.5)) * df2.apply(lambda x: pow(x, 2)).sum(axis=1).apply(lambda x: pow(x, 0.5)).transpose())"
   ]
  },
  {
   "cell_type": "code",
   "execution_count": 2,
   "metadata": {},
   "outputs": [],
   "source": [
    "# set the threshold limit\n",
    "threshold = 0.99\n",
    "\n",
    "# filter the similarity matrix by the threshold limit\n",
    "similar_items = similarity.where(similarity > threshold)"
   ]
  },
  {
   "cell_type": "code",
   "execution_count": 3,
   "metadata": {},
   "outputs": [
    {
     "name": "stdout",
     "output_type": "stream",
     "text": [
      "Similar items:\n",
      "          0         1         2         3         4         5         6    \n",
      "0   1.000000  0.998169  0.996337  1.022342  0.993218  1.023727  1.020974  \\\n",
      "1   0.999569  1.000000  0.997651  1.024719  0.999847  1.026026  1.024118   \n",
      "2   1.002264  1.002180  1.000000  1.025312  1.000484  1.026978  1.024984   \n",
      "3        NaN       NaN       NaN  1.000000       NaN  0.992918       NaN   \n",
      "4        NaN       NaN       NaN  1.023882  1.000000  1.022386  1.021425   \n",
      "..       ...       ...       ...       ...       ...       ...       ...   \n",
      "70       NaN       NaN       NaN  1.007444       NaN  1.003307  0.999482   \n",
      "71       NaN       NaN       NaN  1.009151       NaN  1.002723  1.000203   \n",
      "72       NaN       NaN       NaN  0.997518       NaN  0.990913       NaN   \n",
      "73       NaN       NaN       NaN       NaN       NaN       NaN       NaN   \n",
      "74  0.999505  1.001658  0.998899  1.027221  1.005283  1.028376  1.027081   \n",
      "\n",
      "          7         8         9   ...        65        66        67        68   \n",
      "0   0.998620       NaN  0.993290  ...  1.016834       NaN  1.008113  1.009319  \\\n",
      "1   1.006057  0.995416  1.000389  ...  1.020928  0.991677  1.008640  1.013382   \n",
      "2   1.005829  0.995298  1.000781  ...  1.021606  0.992847  1.010948  1.013117   \n",
      "3        NaN       NaN       NaN  ...       NaN       NaN       NaN  1.000584   \n",
      "4   1.013196  1.002002  1.002600  ...  1.019986       NaN  0.993857  1.019715   \n",
      "..       ...       ...       ...  ...       ...       ...       ...       ...   \n",
      "70       NaN       NaN       NaN  ...  0.995568       NaN       NaN  1.003231   \n",
      "71  0.993468       NaN       NaN  ...  0.998304       NaN       NaN  1.011761   \n",
      "72       NaN       NaN       NaN  ...       NaN       NaN       NaN  0.995791   \n",
      "73       NaN       NaN       NaN  ...       NaN       NaN       NaN       NaN   \n",
      "74  1.012301  1.002327  1.006222  ...  1.024601  0.996347  1.009361  1.017287   \n",
      "\n",
      "          69        70        71        72        73        74  \n",
      "0   1.013062  1.024590  1.002800  1.026956  1.011873  0.993504  \n",
      "1   1.016004  1.025847  1.009613  1.026740  1.011515  0.997040  \n",
      "2   1.016036  1.027249  1.009336  1.028000  1.011999  0.998808  \n",
      "3   1.001978       NaN       NaN  0.999669  1.004198       NaN  \n",
      "4   1.019672  1.018376  1.016936  1.019892  1.010581       NaN  \n",
      "..       ...       ...       ...       ...       ...       ...  \n",
      "70  1.005488  1.000000       NaN  1.008942  1.006665       NaN  \n",
      "71  1.011159  0.995672  1.000000  1.004155  1.006505       NaN  \n",
      "72  0.998410       NaN       NaN  1.000000  1.003757       NaN  \n",
      "73  0.991024       NaN       NaN       NaN  1.000000       NaN  \n",
      "74  1.019046  1.027345  1.015439  1.027250  1.012123  1.000000  \n",
      "\n",
      "[75 rows x 75 columns]\n",
      "\n"
     ]
    }
   ],
   "source": [
    "# print the results\n",
    "print(f\"Similar items:\\n{similar_items}\\n\")"
   ]
  },
  {
   "cell_type": "code",
   "execution_count": 4,
   "metadata": {},
   "outputs": [],
   "source": [
    "# calculate the ANOVA F-statistic and p-value\n",
    "f_statistic, p_value_anova = f_oneway(df1, df2)"
   ]
  },
  {
   "cell_type": "code",
   "execution_count": 5,
   "metadata": {},
   "outputs": [
    {
     "name": "stdout",
     "output_type": "stream",
     "text": [
      "[5.41613841e-31 1.87243445e-31 0.00000000e+00 0.00000000e+00] [1. 1. 1. 1.]\n"
     ]
    }
   ],
   "source": [
    "print(f_statistic, p_value_anova)"
   ]
  }
 ],
 "metadata": {
  "kernelspec": {
   "display_name": "venv",
   "language": "python",
   "name": "python3"
  },
  "language_info": {
   "codemirror_mode": {
    "name": "ipython",
    "version": 3
   },
   "file_extension": ".py",
   "mimetype": "text/x-python",
   "name": "python",
   "nbconvert_exporter": "python",
   "pygments_lexer": "ipython3",
   "version": "3.11.3"
  },
  "orig_nbformat": 4
 },
 "nbformat": 4,
 "nbformat_minor": 2
}
