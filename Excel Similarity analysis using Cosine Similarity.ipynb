{
 "cells": [
  {
   "cell_type": "code",
   "execution_count": 4,
   "metadata": {},
   "outputs": [],
   "source": [
    "import pandas as pd\n",
    "import numpy as np\n",
    "from scipy.stats import ttest_ind\n",
    "\n",
    "# read the first Excel file into a pandas dataframe\n",
    "df1 = pd.read_excel('Book1 - Copy.xlsx')\n",
    "\n",
    "# read the second Excel file into another pandas dataframe\n",
    "df2 = pd.read_excel('Book1.xlsx')\n",
    "\n",
    "# calculate the cosine similarity between the two dataframes\n",
    "similarity = (df1.dot(df2.transpose())) / (df1.apply(lambda x: pow(x, 2)).sum(axis=1).apply(lambda x: pow(x, 0.5)) * df2.apply(lambda x: pow(x, 2)).sum(axis=1).apply(lambda x: pow(x, 0.5)).transpose())"
   ]
  },
  {
   "cell_type": "code",
   "execution_count": 5,
   "metadata": {},
   "outputs": [],
   "source": [
    "# set the threshold limit\n",
    "threshold = 0.99\n",
    "\n",
    "# filter the similarity matrix by the threshold limit\n",
    "similar_items = similarity.where(similarity > threshold)"
   ]
  },
  {
   "cell_type": "code",
   "execution_count": 3,
   "metadata": {},
   "outputs": [
    {
     "name": "stdout",
     "output_type": "stream",
     "text": [
      "Similar items:\n",
      "          0         1    2         3         4         5         6         7    \n",
      "0        NaN       NaN  NaN  1.022342       NaN  1.023727  1.020974       NaN  \\\n",
      "1        NaN       NaN  NaN  1.024719       NaN  1.026026  1.024118  1.006057   \n",
      "2   1.002264  1.002180  1.0  1.025312  1.000484  1.026978  1.024984  1.005829   \n",
      "3        NaN       NaN  NaN       NaN       NaN       NaN       NaN       NaN   \n",
      "4        NaN       NaN  NaN  1.023882       NaN  1.022386  1.021425  1.013196   \n",
      "..       ...       ...  ...       ...       ...       ...       ...       ...   \n",
      "70       NaN       NaN  NaN  1.007444       NaN  1.003307       NaN       NaN   \n",
      "71       NaN       NaN  NaN  1.009151       NaN  1.002723  1.000203       NaN   \n",
      "72       NaN       NaN  NaN       NaN       NaN       NaN       NaN       NaN   \n",
      "73       NaN       NaN  NaN       NaN       NaN       NaN       NaN       NaN   \n",
      "74       NaN  1.001658  NaN  1.027221  1.005283  1.028376  1.027081  1.012301   \n",
      "\n",
      "          8         9   ...        65  66        67        68        69   \n",
      "0        NaN       NaN  ...  1.016834 NaN  1.008113  1.009319  1.013062  \\\n",
      "1        NaN  1.000389  ...  1.020928 NaN  1.008640  1.013382  1.016004   \n",
      "2        NaN  1.000781  ...  1.021606 NaN  1.010948  1.013117  1.016036   \n",
      "3        NaN       NaN  ...       NaN NaN       NaN  1.000584  1.001978   \n",
      "4   1.002002  1.002600  ...  1.019986 NaN       NaN  1.019715  1.019672   \n",
      "..       ...       ...  ...       ...  ..       ...       ...       ...   \n",
      "70       NaN       NaN  ...       NaN NaN       NaN  1.003231  1.005488   \n",
      "71       NaN       NaN  ...       NaN NaN       NaN  1.011761  1.011159   \n",
      "72       NaN       NaN  ...       NaN NaN       NaN       NaN       NaN   \n",
      "73       NaN       NaN  ...       NaN NaN       NaN       NaN       NaN   \n",
      "74  1.002327  1.006222  ...  1.024601 NaN  1.009361  1.017287  1.019046   \n",
      "\n",
      "          70        71        72        73  74  \n",
      "0   1.024590  1.002800  1.026956  1.011873 NaN  \n",
      "1   1.025847  1.009613  1.026740  1.011515 NaN  \n",
      "2   1.027249  1.009336  1.028000  1.011999 NaN  \n",
      "3        NaN       NaN       NaN  1.004198 NaN  \n",
      "4   1.018376  1.016936  1.019892  1.010581 NaN  \n",
      "..       ...       ...       ...       ...  ..  \n",
      "70       NaN       NaN  1.008942  1.006665 NaN  \n",
      "71       NaN       NaN  1.004155  1.006505 NaN  \n",
      "72       NaN       NaN       NaN  1.003757 NaN  \n",
      "73       NaN       NaN       NaN       NaN NaN  \n",
      "74  1.027345  1.015439  1.027250  1.012123 NaN  \n",
      "\n",
      "[75 rows x 75 columns]\n",
      "\n"
     ]
    }
   ],
   "source": [
    "# print the results\n",
    "print(f\"Similar items:\\n{similar_items}\\n\")\n"
   ]
  }
 ],
 "metadata": {
  "kernelspec": {
   "display_name": "venv",
   "language": "python",
   "name": "python3"
  },
  "language_info": {
   "codemirror_mode": {
    "name": "ipython",
    "version": 3
   },
   "file_extension": ".py",
   "mimetype": "text/x-python",
   "name": "python",
   "nbconvert_exporter": "python",
   "pygments_lexer": "ipython3",
   "version": "3.11.3"
  },
  "orig_nbformat": 4
 },
 "nbformat": 4,
 "nbformat_minor": 2
}
