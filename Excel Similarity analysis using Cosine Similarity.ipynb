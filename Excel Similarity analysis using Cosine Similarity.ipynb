{
 "cells": [
  {
   "cell_type": "code",
   "execution_count": 12,
   "metadata": {},
   "outputs": [],
   "source": [
    "import pandas as pd\n",
    "import numpy as np\n",
    "from scipy.stats import ttest_ind, f_oneway\n",
    "\n",
    "# read the first Excel file into a pandas dataframe\n",
    "df1 = pd.read_excel('Similarity for numerical.xlsx')\n",
    "\n",
    "# read the second Excel file into another pandas dataframe\n",
    "df2 = pd.read_excel('Similarity for numerical1.xlsx')\n",
    "\n",
    "# calculate the cosine similarity between the two dataframes\n",
    "similarity = (df1.dot(df2.transpose())) / (df1.apply(lambda x: pow(x, 2)).sum(axis=1).apply(lambda x: pow(x, 0.5)) * df2.apply(lambda x: pow(x, 2)).sum(axis=1).apply(lambda x: pow(x, 0.5)).transpose())"
   ]
  },
  {
   "cell_type": "code",
   "execution_count": 7,
   "metadata": {},
   "outputs": [],
   "source": [
    "# set the threshold limit\n",
    "threshold = 1.0\n",
    "\n",
    "# filter the similarity matrix by the threshold limit\n",
    "similar_items = similarity.where(similarity > threshold)"
   ]
  },
  {
   "cell_type": "code",
   "execution_count": 8,
   "metadata": {},
   "outputs": [
    {
     "name": "stdout",
     "output_type": "stream",
     "text": [
      "Similar items:\n",
      "          0         1   2         3         4         5         6         7    \n",
      "0        NaN       NaN NaN  1.022315       NaN  1.023698  1.020722       NaN  \\\n",
      "1        NaN       NaN NaN  1.024577       NaN  1.025884  1.023753  1.005725   \n",
      "2   1.002365  1.002178 NaN  1.025393  1.000484  1.027056  1.024945  1.005820   \n",
      "3        NaN       NaN NaN       NaN       NaN       NaN       NaN       NaN   \n",
      "4        NaN       NaN NaN  1.023964       NaN  1.022469  1.021392  1.013177   \n",
      "..       ...       ...  ..       ...       ...       ...       ...       ...   \n",
      "70       NaN       NaN NaN  1.007435       NaN  1.003303       NaN       NaN   \n",
      "71       NaN       NaN NaN  1.009028       NaN  1.002609       NaN       NaN   \n",
      "72       NaN       NaN NaN       NaN       NaN       NaN       NaN       NaN   \n",
      "73       NaN       NaN NaN       NaN       NaN       NaN       NaN       NaN   \n",
      "74       NaN  1.001554 NaN  1.027188  1.005067  1.028342  1.026820  1.012068   \n",
      "\n",
      "          8         9   ...        65  66        67        68        69   \n",
      "0        NaN       NaN  ...  1.016591 NaN  1.007999  1.009195  1.012934  \\\n",
      "1        NaN  1.000076  ...  1.020569 NaN  1.008630  1.013366  1.015984   \n",
      "2        NaN  1.000780  ...  1.021573 NaN  1.010936  1.013101  1.016016   \n",
      "3        NaN       NaN  ...       NaN NaN       NaN  1.000471  1.001863   \n",
      "4   1.002104  1.002596  ...  1.019956 NaN       NaN  1.019690  1.019648   \n",
      "..       ...       ...  ...       ...  ..       ...       ...       ...   \n",
      "70       NaN       NaN  ...       NaN NaN       NaN  1.003114  1.005369   \n",
      "71       NaN       NaN  ...       NaN NaN       NaN  1.011521  1.010920   \n",
      "72       NaN       NaN  ...       NaN NaN       NaN       NaN       NaN   \n",
      "73       NaN       NaN  ...       NaN NaN       NaN       NaN       NaN   \n",
      "74  1.002325  1.006004  ...  1.024346 NaN  1.009245  1.017154  1.018910   \n",
      "\n",
      "          70        71        72        73  74  \n",
      "0   1.024560  1.002688  1.026923  1.011744 NaN  \n",
      "1   1.025706  1.009384  1.026595  1.011500 NaN  \n",
      "2   1.027326  1.009325  1.028077  1.011984 NaN  \n",
      "3        NaN       NaN       NaN  1.004079 NaN  \n",
      "4   1.018464  1.016916  1.019979  1.010568 NaN  \n",
      "..       ...       ...       ...       ...  ..  \n",
      "70       NaN       NaN  1.008931  1.006542 NaN  \n",
      "71       NaN  1.000000  1.004038  1.006269 NaN  \n",
      "72       NaN       NaN  1.000000  1.003639 NaN  \n",
      "73       NaN       NaN       NaN       NaN NaN  \n",
      "74  1.027312  1.015312  1.027216  1.011994 NaN  \n",
      "\n",
      "[75 rows x 75 columns]\n",
      "\n"
     ]
    }
   ],
   "source": [
    "# print the results\n",
    "print(f\"Similar items:\\n{similar_items}\\n\")"
   ]
  },
  {
   "cell_type": "code",
   "execution_count": 9,
   "metadata": {},
   "outputs": [],
   "source": [
    "# calculate the ANOVA F-statistic and p-value\n",
    "f_statistic, p_value_anova = f_oneway(df1, df2)"
   ]
  },
  {
   "cell_type": "code",
   "execution_count": 10,
   "metadata": {},
   "outputs": [
    {
     "name": "stdout",
     "output_type": "stream",
     "text": [
      "[ 5.41613841e-31  1.87243445e-31  0.00000000e+00  0.00000000e+00\n",
      " -4.92255466e-31  0.00000000e+00  0.00000000e+00  0.00000000e+00\n",
      "  0.00000000e+00] [ 1.  1.  1.  1. nan  1.  1.  1.  1.]\n"
     ]
    }
   ],
   "source": [
    "print(f_statistic, p_value_anova)"
   ]
  }
 ],
 "metadata": {
  "kernelspec": {
   "display_name": "venv",
   "language": "python",
   "name": "python3"
  },
  "language_info": {
   "codemirror_mode": {
    "name": "ipython",
    "version": 3
   },
   "file_extension": ".py",
   "mimetype": "text/x-python",
   "name": "python",
   "nbconvert_exporter": "python",
   "pygments_lexer": "ipython3",
   "version": "3.11.3"
  },
  "orig_nbformat": 4
 },
 "nbformat": 4,
 "nbformat_minor": 2
}
